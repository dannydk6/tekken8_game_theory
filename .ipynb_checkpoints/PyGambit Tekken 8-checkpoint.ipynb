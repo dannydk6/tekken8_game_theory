{
 "cells": [
  {
   "cell_type": "code",
   "execution_count": 123,
   "metadata": {},
   "outputs": [],
   "source": [
    "import os"
   ]
  },
  {
   "cell_type": "code",
   "execution_count": 156,
   "metadata": {},
   "outputs": [],
   "source": [
    "base_path = \"azucena/BT\""
   ]
  },
  {
   "cell_type": "code",
   "execution_count": 385,
   "metadata": {},
   "outputs": [
    {
     "data": {
      "text/plain": [
       "['.ipynb_checkpoints',\n",
       " 'artifacts',\n",
       " 'azucena_heat_engager_plus17.json',\n",
       " 'azu_12bplus8_reina_v2.json',\n",
       " 'azu_BT-5_reina.json',\n",
       " 'azu_bt1_reina.json',\n",
       " 'azu_db3_BTplus4_reina.json',\n",
       " 'azu_heat_engager_plus17.csv',\n",
       " 'json2gbt.py',\n",
       " 'old',\n",
       " 'Untitled.ipynb']"
      ]
     },
     "execution_count": 385,
     "metadata": {},
     "output_type": "execute_result"
    }
   ],
   "source": [
    "os.listdir(base_path)"
   ]
  },
  {
   "cell_type": "code",
   "execution_count": 434,
   "metadata": {},
   "outputs": [
    {
     "data": {
      "text/plain": [
       "['azucena_heat_engager_plus17.gbt',\n",
       " 'azu_12bplus8_reina.gbt',\n",
       " 'azu_12bplus8_reina_RA.gbt',\n",
       " 'azu_12bplus8_reina_v2.gbt',\n",
       " 'azu_BT-5_reina.gbt',\n",
       " 'azu_bt1_reina.gbt',\n",
       " 'azu_db3_BTplus4_reina.gbt']"
      ]
     },
     "execution_count": 434,
     "metadata": {},
     "output_type": "execute_result"
    }
   ],
   "source": [
    "interactions = os.listdir(f\"{base_path}/artifacts\")\n",
    "interactions"
   ]
  },
  {
   "cell_type": "code",
   "execution_count": 436,
   "metadata": {},
   "outputs": [
    {
     "data": {
      "text/html": [
       "<center><h1>Azucena 1,2~B BT (+8) on Reina</h1></center>\n",
       "<table><tr><td></td><td align=center><b>B</b></td><td align=center><b>DB</b></td><td align=center><b>112</b></td><td align=center><b>DB1</b></td><td align=center><b>SSR~b</b></td><td align=center><b>SSL~b</b></td><td align=center><b>Power Crush</b></td><td align=center><b>Hop Kick</b></td></tr><tr><td align=center><b>BT.1</b></td><td align=center>-0.22,0.22</td><td align=center>-76,76</td><td align=center>10,-10</td><td align=center>-5,5</td><td align=center>10,-10</td><td align=center>10,-10</td><td align=center>10,-10</td><td align=center>10,-10</td></tr><tr><td align=center><b>BT.1,2</b></td><td align=center>-23.52,23.52</td><td align=center>-76,76</td><td align=center>33,-33</td><td align=center>-5,5</td><td align=center>32,-32</td><td align=center>32,-32</td><td align=center>33,-33</td><td align=center>33,-33</td></tr><tr><td align=center><b>BT.1,4</b></td><td align=center>-0.22,0.22</td><td align=center>-76,76</td><td align=center>31,-31</td><td align=center>-5,5</td><td align=center>30,-30</td><td align=center>30,-30</td><td align=center>31,-31</td><td align=center>31,-31</td></tr><tr><td align=center><b>BT.1+2</b></td><td align=center>-23,23</td><td align=center>17,-17</td><td align=center>73,-73</td><td align=center>73,-73</td><td align=center>17,-17</td><td align=center>17,-17</td><td align=center>73,-73</td><td align=center>73,-73</td></tr><tr><td align=center><b>BT.3</b></td><td align=center>23,-23</td><td align=center>-34,34</td><td align=center>-24,24</td><td align=center>-6,6</td><td align=center>23,-23</td><td align=center>23,-23</td><td align=center>41,-41</td><td align=center>-64,64</td></tr><tr><td align=center><b>BT.1+3</b></td><td align=center>0,0</td><td align=center>-76,76</td><td align=center>0,0</td><td align=center>-5,5</td><td align=center>0,0</td><td align=center>0,0</td><td align=center>35,-35</td><td align=center>35,-35</td></tr><tr><td align=center><b>BT.4</b></td><td align=center>-5.68,5.68</td><td align=center>15,-15</td><td align=center>18,-18</td><td align=center>18,-18</td><td align=center>18,-18</td><td align=center>18,-18</td><td align=center>-8,8</td><td align=center>18,-18</td></tr><tr><td align=center><b>BT.2(2)</b></td><td align=center>0,0</td><td align=center>38,-38</td><td align=center>41,-41</td><td align=center>41,-41</td><td align=center>38,-38</td><td align=center>38,-38</td><td align=center>-8,8</td><td align=center>12,-12</td></tr><tr><td align=center><b>BT.4,3</b></td><td align=center>-5.68,5.68</td><td align=center>36,-36</td><td align=center>39,-39</td><td align=center>39,-39</td><td align=center>36,-36</td><td align=center>36,-36</td><td align=center>13,-13</td><td align=center>39,-39</td></tr><tr><td align=center><b>BT.3+4</b></td><td align=center>0,0</td><td align=center>0,0</td><td align=center>-38,38</td><td align=center>81,-81</td><td align=center>-76,76</td><td align=center>0,0</td><td align=center>-28,28</td><td align=center>-64,64</td></tr><tr><td align=center><b>B (exit)</b></td><td align=center>0,0</td><td align=center>0,0</td><td align=center>0,0</td><td align=center>0,0</td><td align=center>0,0</td><td align=center>0,0</td><td align=center>31.83,-31.83</td><td align=center>31.83,-31.83</td></tr><tr><td align=center><b>qcb</b></td><td align=center>0,0</td><td align=center>0,0</td><td align=center>68,-68</td><td align=center>0,0</td><td align=center>0,0</td><td align=center>0,0</td><td align=center>31.83,-31.83</td><td align=center>68,-68</td></tr><tr><td align=center><b>d1</b></td><td align=center>0,0</td><td align=center>0,0</td><td align=center>6,-6</td><td align=center>6,-6</td><td align=center>6,-6</td><td align=center>6,-6</td><td align=center>6,-6</td><td align=center>6,-6</td></tr></table>\n"
      ],
      "text/plain": [
       "Game(title='Azucena 1,2~B BT (+8) on Reina')"
      ]
     },
     "execution_count": 436,
     "metadata": {},
     "output_type": "execute_result"
    }
   ],
   "source": [
    "import pygambit as gbt\n",
    "import pandas as pd\n",
    "\n",
    "bt4 = gbt.Game.read_game(f\"{base_path}/artifacts/{interactions[3]}\")\n",
    "result = gbt.nash.lcp_solve(bt4)\n",
    "eqm = result.equilibria[0]\n",
    "bt4"
   ]
  },
  {
   "cell_type": "code",
   "execution_count": 437,
   "metadata": {},
   "outputs": [
    {
     "data": {
      "text/html": [
       "<center><h1>Azucena 1,2~B BT (+8) on Reina</h1></center>\n",
       "<table><tr><td></td><td align=center><b>B</b></td><td align=center><b>DB</b></td><td align=center><b>112</b></td><td align=center><b>DB1</b></td><td align=center><b>SSR~b</b></td><td align=center><b>SSL~b</b></td><td align=center><b>Power Crush</b></td><td align=center><b>Hop Kick</b></td></tr><tr><td align=center><b>BT.1</b></td><td align=center>-0.22,0.22</td><td align=center>-76,76</td><td align=center>10,-10</td><td align=center>-5,5</td><td align=center>10,-10</td><td align=center>10,-10</td><td align=center>10,-10</td><td align=center>10,-10</td></tr><tr><td align=center><b>BT.1,2</b></td><td align=center>-23.52,23.52</td><td align=center>-76,76</td><td align=center>33,-33</td><td align=center>-5,5</td><td align=center>32,-32</td><td align=center>32,-32</td><td align=center>33,-33</td><td align=center>33,-33</td></tr><tr><td align=center><b>BT.1,4</b></td><td align=center>-0.22,0.22</td><td align=center>-76,76</td><td align=center>31,-31</td><td align=center>-5,5</td><td align=center>30,-30</td><td align=center>30,-30</td><td align=center>31,-31</td><td align=center>31,-31</td></tr><tr><td align=center><b>BT.1+2</b></td><td align=center>-23,23</td><td align=center>17,-17</td><td align=center>73,-73</td><td align=center>73,-73</td><td align=center>17,-17</td><td align=center>17,-17</td><td align=center>73,-73</td><td align=center>73,-73</td></tr><tr><td align=center><b>BT.3</b></td><td align=center>23,-23</td><td align=center>-34,34</td><td align=center>-24,24</td><td align=center>-6,6</td><td align=center>23,-23</td><td align=center>23,-23</td><td align=center>41,-41</td><td align=center>-64,64</td></tr><tr><td align=center><b>BT.1+3</b></td><td align=center>0,0</td><td align=center>-76,76</td><td align=center>0,0</td><td align=center>-5,5</td><td align=center>0,0</td><td align=center>0,0</td><td align=center>35,-35</td><td align=center>35,-35</td></tr><tr><td align=center><b>BT.4</b></td><td align=center>-5.68,5.68</td><td align=center>15,-15</td><td align=center>18,-18</td><td align=center>18,-18</td><td align=center>18,-18</td><td align=center>18,-18</td><td align=center>-8,8</td><td align=center>18,-18</td></tr><tr><td align=center><b>BT.2(2)</b></td><td align=center>0,0</td><td align=center>38,-38</td><td align=center>41,-41</td><td align=center>41,-41</td><td align=center>38,-38</td><td align=center>38,-38</td><td align=center>-8,8</td><td align=center>12,-12</td></tr><tr><td align=center><b>BT.4,3</b></td><td align=center>-5.68,5.68</td><td align=center>36,-36</td><td align=center>39,-39</td><td align=center>39,-39</td><td align=center>36,-36</td><td align=center>36,-36</td><td align=center>13,-13</td><td align=center>39,-39</td></tr><tr><td align=center><b>BT.3+4</b></td><td align=center>0,0</td><td align=center>0,0</td><td align=center>-38,38</td><td align=center>81,-81</td><td align=center>-76,76</td><td align=center>0,0</td><td align=center>-28,28</td><td align=center>-64,64</td></tr><tr><td align=center><b>B (exit)</b></td><td align=center>0,0</td><td align=center>0,0</td><td align=center>0,0</td><td align=center>0,0</td><td align=center>0,0</td><td align=center>0,0</td><td align=center>31.83,-31.83</td><td align=center>31.83,-31.83</td></tr><tr><td align=center><b>qcb</b></td><td align=center>0,0</td><td align=center>0,0</td><td align=center>68,-68</td><td align=center>0,0</td><td align=center>0,0</td><td align=center>0,0</td><td align=center>31.83,-31.83</td><td align=center>68,-68</td></tr><tr><td align=center><b>d1</b></td><td align=center>0,0</td><td align=center>0,0</td><td align=center>6,-6</td><td align=center>6,-6</td><td align=center>6,-6</td><td align=center>6,-6</td><td align=center>6,-6</td><td align=center>6,-6</td></tr></table>\n"
      ],
      "text/plain": [
       "Game(title='Azucena 1,2~B BT (+8) on Reina')"
      ]
     },
     "execution_count": 437,
     "metadata": {},
     "output_type": "execute_result"
    }
   ],
   "source": [
    "bt4 = gbt.Game.read_game(f\"{base_path}/artifacts/{interactions[3]}\")\n",
    "result = gbt.nash.lcp_solve(bt4)\n",
    "eqm = result.equilibria[0]\n",
    "bt4"
   ]
  },
  {
   "cell_type": "code",
   "execution_count": 438,
   "metadata": {},
   "outputs": [
    {
     "data": {
      "text/plain": [
       "['Azucena', 'Reina']"
      ]
     },
     "execution_count": 438,
     "metadata": {},
     "output_type": "execute_result"
    }
   ],
   "source": [
    "players = [x.label for x in bt4.players]\n",
    "players"
   ]
  },
  {
   "cell_type": "code",
   "execution_count": 439,
   "metadata": {},
   "outputs": [
    {
     "name": "stdout",
     "output_type": "stream",
     "text": [
      "Azucena Payoff: 6.5439\n"
     ]
    }
   ],
   "source": [
    "payoff = f'{float(eqm.payoff(players[0])):.4f}'\n",
    "print(f\"{players[0]} Payoff: {payoff}\")"
   ]
  },
  {
   "cell_type": "code",
   "execution_count": 440,
   "metadata": {},
   "outputs": [
    {
     "data": {
      "text/html": [
       "<div>\n",
       "<style scoped>\n",
       "    .dataframe tbody tr th:only-of-type {\n",
       "        vertical-align: middle;\n",
       "    }\n",
       "\n",
       "    .dataframe tbody tr th {\n",
       "        vertical-align: top;\n",
       "    }\n",
       "\n",
       "    .dataframe thead th {\n",
       "        text-align: right;\n",
       "    }\n",
       "</style>\n",
       "<table border=\"1\" class=\"dataframe\">\n",
       "  <thead>\n",
       "    <tr style=\"text-align: right;\">\n",
       "      <th></th>\n",
       "      <th>player</th>\n",
       "      <th>strategy</th>\n",
       "      <th>distribution</th>\n",
       "    </tr>\n",
       "  </thead>\n",
       "  <tbody>\n",
       "    <tr>\n",
       "      <th>0</th>\n",
       "      <td>Azucena</td>\n",
       "      <td>BT.1</td>\n",
       "      <td>0.00%</td>\n",
       "    </tr>\n",
       "    <tr>\n",
       "      <th>1</th>\n",
       "      <td>Azucena</td>\n",
       "      <td>BT.1,2</td>\n",
       "      <td>0.00%</td>\n",
       "    </tr>\n",
       "    <tr>\n",
       "      <th>2</th>\n",
       "      <td>Azucena</td>\n",
       "      <td>BT.1,4</td>\n",
       "      <td>0.00%</td>\n",
       "    </tr>\n",
       "    <tr>\n",
       "      <th>3</th>\n",
       "      <td>Azucena</td>\n",
       "      <td>BT.1+2</td>\n",
       "      <td>0.00%</td>\n",
       "    </tr>\n",
       "    <tr>\n",
       "      <th>4</th>\n",
       "      <td>Azucena</td>\n",
       "      <td>BT.3</td>\n",
       "      <td>28.45%</td>\n",
       "    </tr>\n",
       "    <tr>\n",
       "      <th>5</th>\n",
       "      <td>Azucena</td>\n",
       "      <td>BT.1+3</td>\n",
       "      <td>0.00%</td>\n",
       "    </tr>\n",
       "    <tr>\n",
       "      <th>6</th>\n",
       "      <td>Azucena</td>\n",
       "      <td>BT.4</td>\n",
       "      <td>0.00%</td>\n",
       "    </tr>\n",
       "    <tr>\n",
       "      <th>7</th>\n",
       "      <td>Azucena</td>\n",
       "      <td>BT.2(2)</td>\n",
       "      <td>42.68%</td>\n",
       "    </tr>\n",
       "    <tr>\n",
       "      <th>8</th>\n",
       "      <td>Azucena</td>\n",
       "      <td>BT.4,3</td>\n",
       "      <td>0.00%</td>\n",
       "    </tr>\n",
       "    <tr>\n",
       "      <th>9</th>\n",
       "      <td>Azucena</td>\n",
       "      <td>BT.3+4</td>\n",
       "      <td>0.00%</td>\n",
       "    </tr>\n",
       "    <tr>\n",
       "      <th>10</th>\n",
       "      <td>Azucena</td>\n",
       "      <td>B (exit)</td>\n",
       "      <td>0.00%</td>\n",
       "    </tr>\n",
       "    <tr>\n",
       "      <th>11</th>\n",
       "      <td>Azucena</td>\n",
       "      <td>qcb</td>\n",
       "      <td>28.87%</td>\n",
       "    </tr>\n",
       "    <tr>\n",
       "      <th>12</th>\n",
       "      <td>Azucena</td>\n",
       "      <td>d1</td>\n",
       "      <td>0.00%</td>\n",
       "    </tr>\n",
       "    <tr>\n",
       "      <th>13</th>\n",
       "      <td>Reina</td>\n",
       "      <td>B</td>\n",
       "      <td>76.19%</td>\n",
       "    </tr>\n",
       "    <tr>\n",
       "      <th>14</th>\n",
       "      <td>Reina</td>\n",
       "      <td>DB</td>\n",
       "      <td>14.18%</td>\n",
       "    </tr>\n",
       "    <tr>\n",
       "      <th>15</th>\n",
       "      <td>Reina</td>\n",
       "      <td>112</td>\n",
       "      <td>0.00%</td>\n",
       "    </tr>\n",
       "    <tr>\n",
       "      <th>16</th>\n",
       "      <td>Reina</td>\n",
       "      <td>DB1</td>\n",
       "      <td>0.00%</td>\n",
       "    </tr>\n",
       "    <tr>\n",
       "      <th>17</th>\n",
       "      <td>Reina</td>\n",
       "      <td>SSR~b</td>\n",
       "      <td>0.00%</td>\n",
       "    </tr>\n",
       "    <tr>\n",
       "      <th>18</th>\n",
       "      <td>Reina</td>\n",
       "      <td>SSL~b</td>\n",
       "      <td>0.00%</td>\n",
       "    </tr>\n",
       "    <tr>\n",
       "      <th>19</th>\n",
       "      <td>Reina</td>\n",
       "      <td>Power Crush</td>\n",
       "      <td>0.00%</td>\n",
       "    </tr>\n",
       "    <tr>\n",
       "      <th>20</th>\n",
       "      <td>Reina</td>\n",
       "      <td>Hop Kick</td>\n",
       "      <td>9.62%</td>\n",
       "    </tr>\n",
       "  </tbody>\n",
       "</table>\n",
       "</div>"
      ],
      "text/plain": [
       "     player     strategy distribution\n",
       "0   Azucena         BT.1        0.00%\n",
       "1   Azucena       BT.1,2        0.00%\n",
       "2   Azucena       BT.1,4        0.00%\n",
       "3   Azucena       BT.1+2        0.00%\n",
       "4   Azucena         BT.3       28.45%\n",
       "5   Azucena       BT.1+3        0.00%\n",
       "6   Azucena         BT.4        0.00%\n",
       "7   Azucena      BT.2(2)       42.68%\n",
       "8   Azucena       BT.4,3        0.00%\n",
       "9   Azucena       BT.3+4        0.00%\n",
       "10  Azucena     B (exit)        0.00%\n",
       "11  Azucena          qcb       28.87%\n",
       "12  Azucena           d1        0.00%\n",
       "13    Reina            B       76.19%\n",
       "14    Reina           DB       14.18%\n",
       "15    Reina          112        0.00%\n",
       "16    Reina          DB1        0.00%\n",
       "17    Reina        SSR~b        0.00%\n",
       "18    Reina        SSL~b        0.00%\n",
       "19    Reina  Power Crush        0.00%\n",
       "20    Reina     Hop Kick        9.62%"
      ]
     },
     "execution_count": 440,
     "metadata": {},
     "output_type": "execute_result"
    }
   ],
   "source": [
    "equilibria = []\n",
    "for player in players:\n",
    "    for strategy, dist in eqm[player]:\n",
    "        dist_formatted = f\"{100*float(dist):.2f}%\"\n",
    "        equilibria.append({\"player\": strategy.player.label,\n",
    "                           \"strategy\": strategy.label,\n",
    "                           \"distribution\": dist_formatted})\n",
    "eq_df = pd.DataFrame(equilibria)\n",
    "eq_df"
   ]
  },
  {
   "cell_type": "code",
   "execution_count": 427,
   "metadata": {},
   "outputs": [],
   "source": [
    "strategies = []\n",
    "for player in players:\n",
    "    for strategy in bt4.players[player].strategies:\n",
    "        strategies.append({\"player\": player, \n",
    "                           \"strategy\": strategy.label, \n",
    "                           \"strategy_value\": f\"{float(eqm.strategy_value(strategy)):.4f}\",\n",
    "                           })"
   ]
  },
  {
   "cell_type": "code",
   "execution_count": null,
   "metadata": {},
   "outputs": [],
   "source": []
  },
  {
   "cell_type": "code",
   "execution_count": 341,
   "metadata": {},
   "outputs": [
    {
     "data": {
      "text/html": [
       "<div>\n",
       "<style scoped>\n",
       "    .dataframe tbody tr th:only-of-type {\n",
       "        vertical-align: middle;\n",
       "    }\n",
       "\n",
       "    .dataframe tbody tr th {\n",
       "        vertical-align: top;\n",
       "    }\n",
       "\n",
       "    .dataframe thead th {\n",
       "        text-align: right;\n",
       "    }\n",
       "</style>\n",
       "<table border=\"1\" class=\"dataframe\">\n",
       "  <thead>\n",
       "    <tr style=\"text-align: right;\">\n",
       "      <th></th>\n",
       "      <th>player</th>\n",
       "      <th>strategy</th>\n",
       "      <th>strategy_value</th>\n",
       "    </tr>\n",
       "  </thead>\n",
       "  <tbody>\n",
       "    <tr>\n",
       "      <th>0</th>\n",
       "      <td>Azucena</td>\n",
       "      <td>B (exit)</td>\n",
       "      <td>-5.6750</td>\n",
       "    </tr>\n",
       "    <tr>\n",
       "      <th>1</th>\n",
       "      <td>Azucena</td>\n",
       "      <td>qcb</td>\n",
       "      <td>-5.6750</td>\n",
       "    </tr>\n",
       "    <tr>\n",
       "      <th>2</th>\n",
       "      <td>Azucena</td>\n",
       "      <td>BT.1</td>\n",
       "      <td>-12.1244</td>\n",
       "    </tr>\n",
       "    <tr>\n",
       "      <th>3</th>\n",
       "      <td>Azucena</td>\n",
       "      <td>b1+2 (mid parry)</td>\n",
       "      <td>-16.3407</td>\n",
       "    </tr>\n",
       "    <tr>\n",
       "      <th>4</th>\n",
       "      <td>Azucena</td>\n",
       "      <td>d1</td>\n",
       "      <td>-9.7425</td>\n",
       "    </tr>\n",
       "    <tr>\n",
       "      <th>5</th>\n",
       "      <td>Azucena</td>\n",
       "      <td>BT3+4</td>\n",
       "      <td>-5.6750</td>\n",
       "    </tr>\n",
       "    <tr>\n",
       "      <th>6</th>\n",
       "      <td>Azucena</td>\n",
       "      <td>3</td>\n",
       "      <td>-5.6750</td>\n",
       "    </tr>\n",
       "    <tr>\n",
       "      <th>7</th>\n",
       "      <td>Reina</td>\n",
       "      <td>ff2</td>\n",
       "      <td>5.6750</td>\n",
       "    </tr>\n",
       "    <tr>\n",
       "      <th>8</th>\n",
       "      <td>Reina</td>\n",
       "      <td>112</td>\n",
       "      <td>5.6750</td>\n",
       "    </tr>\n",
       "    <tr>\n",
       "      <th>9</th>\n",
       "      <td>Reina</td>\n",
       "      <td>hellsweep</td>\n",
       "      <td>-3.3225</td>\n",
       "    </tr>\n",
       "    <tr>\n",
       "      <th>10</th>\n",
       "      <td>Reina</td>\n",
       "      <td>db2</td>\n",
       "      <td>5.6750</td>\n",
       "    </tr>\n",
       "    <tr>\n",
       "      <th>11</th>\n",
       "      <td>Reina</td>\n",
       "      <td>EWGF</td>\n",
       "      <td>-3.3161</td>\n",
       "    </tr>\n",
       "    <tr>\n",
       "      <th>12</th>\n",
       "      <td>Reina</td>\n",
       "      <td>df1</td>\n",
       "      <td>-1.2382</td>\n",
       "    </tr>\n",
       "    <tr>\n",
       "      <th>13</th>\n",
       "      <td>Reina</td>\n",
       "      <td>df1,1</td>\n",
       "      <td>1.1878</td>\n",
       "    </tr>\n",
       "    <tr>\n",
       "      <th>14</th>\n",
       "      <td>Reina</td>\n",
       "      <td>df1,2</td>\n",
       "      <td>-17.6508</td>\n",
       "    </tr>\n",
       "    <tr>\n",
       "      <th>15</th>\n",
       "      <td>Reina</td>\n",
       "      <td>b</td>\n",
       "      <td>5.6750</td>\n",
       "    </tr>\n",
       "  </tbody>\n",
       "</table>\n",
       "</div>"
      ],
      "text/plain": [
       "     player          strategy strategy_value\n",
       "0   Azucena          B (exit)        -5.6750\n",
       "1   Azucena               qcb        -5.6750\n",
       "2   Azucena              BT.1       -12.1244\n",
       "3   Azucena  b1+2 (mid parry)       -16.3407\n",
       "4   Azucena                d1        -9.7425\n",
       "5   Azucena             BT3+4        -5.6750\n",
       "6   Azucena                 3        -5.6750\n",
       "7     Reina               ff2         5.6750\n",
       "8     Reina               112         5.6750\n",
       "9     Reina         hellsweep        -3.3225\n",
       "10    Reina               db2         5.6750\n",
       "11    Reina              EWGF        -3.3161\n",
       "12    Reina               df1        -1.2382\n",
       "13    Reina             df1,1         1.1878\n",
       "14    Reina             df1,2       -17.6508\n",
       "15    Reina                 b         5.6750"
      ]
     },
     "execution_count": 341,
     "metadata": {},
     "output_type": "execute_result"
    }
   ],
   "source": [
    "strat_df = pd.DataFrame(strategies)\n",
    "strat_df"
   ]
  },
  {
   "cell_type": "code",
   "execution_count": 342,
   "metadata": {},
   "outputs": [
    {
     "data": {
      "text/html": [
       "<div>\n",
       "<style scoped>\n",
       "    .dataframe tbody tr th:only-of-type {\n",
       "        vertical-align: middle;\n",
       "    }\n",
       "\n",
       "    .dataframe tbody tr th {\n",
       "        vertical-align: top;\n",
       "    }\n",
       "\n",
       "    .dataframe thead th {\n",
       "        text-align: right;\n",
       "    }\n",
       "</style>\n",
       "<table border=\"1\" class=\"dataframe\">\n",
       "  <thead>\n",
       "    <tr style=\"text-align: right;\">\n",
       "      <th></th>\n",
       "      <th>player</th>\n",
       "      <th>strategy</th>\n",
       "      <th>distribution</th>\n",
       "      <th>strategy_value</th>\n",
       "    </tr>\n",
       "  </thead>\n",
       "  <tbody>\n",
       "    <tr>\n",
       "      <th>0</th>\n",
       "      <td>Azucena</td>\n",
       "      <td>B (exit)</td>\n",
       "      <td>62.54%</td>\n",
       "      <td>-5.6750</td>\n",
       "    </tr>\n",
       "    <tr>\n",
       "      <th>1</th>\n",
       "      <td>Azucena</td>\n",
       "      <td>qcb</td>\n",
       "      <td>12.21%</td>\n",
       "      <td>-5.6750</td>\n",
       "    </tr>\n",
       "    <tr>\n",
       "      <th>2</th>\n",
       "      <td>Azucena</td>\n",
       "      <td>BT.1</td>\n",
       "      <td>0.00%</td>\n",
       "      <td>-12.1244</td>\n",
       "    </tr>\n",
       "    <tr>\n",
       "      <th>3</th>\n",
       "      <td>Azucena</td>\n",
       "      <td>b1+2 (mid parry)</td>\n",
       "      <td>0.00%</td>\n",
       "      <td>-16.3407</td>\n",
       "    </tr>\n",
       "    <tr>\n",
       "      <th>4</th>\n",
       "      <td>Azucena</td>\n",
       "      <td>d1</td>\n",
       "      <td>0.00%</td>\n",
       "      <td>-9.7425</td>\n",
       "    </tr>\n",
       "    <tr>\n",
       "      <th>5</th>\n",
       "      <td>Azucena</td>\n",
       "      <td>BT3+4</td>\n",
       "      <td>12.05%</td>\n",
       "      <td>-5.6750</td>\n",
       "    </tr>\n",
       "    <tr>\n",
       "      <th>6</th>\n",
       "      <td>Azucena</td>\n",
       "      <td>3</td>\n",
       "      <td>13.20%</td>\n",
       "      <td>-5.6750</td>\n",
       "    </tr>\n",
       "    <tr>\n",
       "      <th>7</th>\n",
       "      <td>Reina</td>\n",
       "      <td>ff2</td>\n",
       "      <td>29.63%</td>\n",
       "      <td>5.6750</td>\n",
       "    </tr>\n",
       "    <tr>\n",
       "      <th>8</th>\n",
       "      <td>Reina</td>\n",
       "      <td>112</td>\n",
       "      <td>11.72%</td>\n",
       "      <td>5.6750</td>\n",
       "    </tr>\n",
       "    <tr>\n",
       "      <th>9</th>\n",
       "      <td>Reina</td>\n",
       "      <td>hellsweep</td>\n",
       "      <td>0.00%</td>\n",
       "      <td>-3.3225</td>\n",
       "    </tr>\n",
       "    <tr>\n",
       "      <th>10</th>\n",
       "      <td>Reina</td>\n",
       "      <td>db2</td>\n",
       "      <td>13.54%</td>\n",
       "      <td>5.6750</td>\n",
       "    </tr>\n",
       "    <tr>\n",
       "      <th>11</th>\n",
       "      <td>Reina</td>\n",
       "      <td>EWGF</td>\n",
       "      <td>0.00%</td>\n",
       "      <td>-3.3161</td>\n",
       "    </tr>\n",
       "    <tr>\n",
       "      <th>12</th>\n",
       "      <td>Reina</td>\n",
       "      <td>df1</td>\n",
       "      <td>0.00%</td>\n",
       "      <td>-1.2382</td>\n",
       "    </tr>\n",
       "    <tr>\n",
       "      <th>13</th>\n",
       "      <td>Reina</td>\n",
       "      <td>df1,1</td>\n",
       "      <td>0.00%</td>\n",
       "      <td>1.1878</td>\n",
       "    </tr>\n",
       "    <tr>\n",
       "      <th>14</th>\n",
       "      <td>Reina</td>\n",
       "      <td>df1,2</td>\n",
       "      <td>0.00%</td>\n",
       "      <td>-17.6508</td>\n",
       "    </tr>\n",
       "    <tr>\n",
       "      <th>15</th>\n",
       "      <td>Reina</td>\n",
       "      <td>b</td>\n",
       "      <td>45.11%</td>\n",
       "      <td>5.6750</td>\n",
       "    </tr>\n",
       "  </tbody>\n",
       "</table>\n",
       "</div>"
      ],
      "text/plain": [
       "     player          strategy distribution strategy_value\n",
       "0   Azucena          B (exit)       62.54%        -5.6750\n",
       "1   Azucena               qcb       12.21%        -5.6750\n",
       "2   Azucena              BT.1        0.00%       -12.1244\n",
       "3   Azucena  b1+2 (mid parry)        0.00%       -16.3407\n",
       "4   Azucena                d1        0.00%        -9.7425\n",
       "5   Azucena             BT3+4       12.05%        -5.6750\n",
       "6   Azucena                 3       13.20%        -5.6750\n",
       "7     Reina               ff2       29.63%         5.6750\n",
       "8     Reina               112       11.72%         5.6750\n",
       "9     Reina         hellsweep        0.00%        -3.3225\n",
       "10    Reina               db2       13.54%         5.6750\n",
       "11    Reina              EWGF        0.00%        -3.3161\n",
       "12    Reina               df1        0.00%        -1.2382\n",
       "13    Reina             df1,1        0.00%         1.1878\n",
       "14    Reina             df1,2        0.00%       -17.6508\n",
       "15    Reina                 b       45.11%         5.6750"
      ]
     },
     "execution_count": 342,
     "metadata": {},
     "output_type": "execute_result"
    }
   ],
   "source": [
    "eq_df.merge(strat_df, on=[\"player\",\"strategy\"])"
   ]
  },
  {
   "cell_type": "code",
   "execution_count": 212,
   "metadata": {},
   "outputs": [
    {
     "data": {
      "text/plain": [
       "['.git',\n",
       " '.ipynb_checkpoints',\n",
       " '.vscode',\n",
       " 'azucena',\n",
       " 'create_gbt.sh',\n",
       " 'notes.txt',\n",
       " 'pygambit test.ipynb',\n",
       " 'README.md',\n",
       " 'reina_plus1.json']"
      ]
     },
     "execution_count": 212,
     "metadata": {},
     "output_type": "execute_result"
    }
   ],
   "source": [
    "os.listdir()"
   ]
  },
  {
   "cell_type": "code",
   "execution_count": 176,
   "metadata": {},
   "outputs": [],
   "source": [
    "ops = [\"BT.1\", \"BT.1,2\", \"BT.1,4\", \"BT.1+2\", \"BT.3\", \"BT.1+3\", \"BT.4\", \"BT.2(2)\", \"BT.4,3\", \"BT.3+4\",\n",
    "        \"B (exit)\", \"qcb\", \"d1\"]"
   ]
  },
  {
   "cell_type": "code",
   "execution_count": 177,
   "metadata": {},
   "outputs": [
    {
     "data": {
      "text/plain": [
       "13"
      ]
     },
     "execution_count": 177,
     "metadata": {},
     "output_type": "execute_result"
    }
   ],
   "source": [
    "len(ops)"
   ]
  },
  {
   "cell_type": "code",
   "execution_count": 178,
   "metadata": {},
   "outputs": [],
   "source": [
    "b = {\n",
    "    \"title\": \"Azucena db3 (+4) into BT on Reina\",\n",
    "    \"P1\": \"Azucena\",\n",
    "    \"P2\": \"Reina\",\n",
    "    \"P1-strats\": [\"BT.1\", \"BT.1,2\", \"BT.1,4\", \"BT.1+2\", \"BT.3\", \"BT.1+3\", \"BT.4\", \"BT.2(2)\", \"BT.4,3\", \"BT.3+4\",\n",
    "        \"B (exit)\", \"qcb\", \"d1\"\n",
    "    ],\n",
    "    \"P2-strats\": [\"B\", \"DB\", \"112\", \"DB1\", \"SSR~b\", \"SSL~b\", \"Power Crush\", \"Hop Kick\"],\n",
    "    \"comment\": \"Azucena db3 (+4) into BT on Reina\",\n",
    "    \"payoffs\": [\n",
    "        [-0.22, -76, 10, -5, -23, 10, 10, 10],\n",
    "        [-23.52, -76, 33, -5, 32, 32, 33, 33],\n",
    "        [-0.22, -76, 31, -5, 30, 30, 31, 31],\n",
    "        [-23, 17, 73, 73, 17, 17, 73, 73],\n",
    "        [23, -34, -24, -6, 23, 23, 41, -64],\n",
    "        [0, -76, 0, -5, 0, 0, 35, 35],\n",
    "        [-5.68, 15, 18, 18, 18, 18, -8, 18],\n",
    "        [0, 38, 41, 41, 38, 38, -8, 12],\n",
    "        [-43, 36, 39, 39, 36, 36, 13, 39],\n",
    "        [0, 81, -38, 81, -76, 0, -28, -64],\n",
    "        [0, 0, 0, 0, 0, 0, 31.83, 31.83],\n",
    "        [0, 0, 68, 0, 0, 0, 31.83, 68]\n",
    "    ]\n",
    "}"
   ]
  },
  {
   "cell_type": "code",
   "execution_count": 183,
   "metadata": {},
   "outputs": [
    {
     "data": {
      "text/plain": [
       "13"
      ]
     },
     "execution_count": 183,
     "metadata": {},
     "output_type": "execute_result"
    }
   ],
   "source": [
    "\n",
    "len(b[\"P1-strats\"])"
   ]
  },
  {
   "cell_type": "code",
   "execution_count": 182,
   "metadata": {},
   "outputs": [
    {
     "name": "stdout",
     "output_type": "stream",
     "text": [
      "8\n",
      "8\n",
      "8\n",
      "8\n",
      "8\n",
      "8\n",
      "8\n",
      "8\n",
      "8\n",
      "8\n",
      "8\n",
      "8\n"
     ]
    }
   ],
   "source": [
    "for i in b[\"payoffs\"]:\n",
    "    print(len(i))"
   ]
  },
  {
   "cell_type": "code",
   "execution_count": 346,
   "metadata": {},
   "outputs": [
    {
     "data": {
      "text/plain": [
       "-19.8484"
      ]
     },
     "execution_count": 346,
     "metadata": {},
     "output_type": "execute_result"
    }
   ],
   "source": [
    "0.4511*-44"
   ]
  },
  {
   "cell_type": "code",
   "execution_count": null,
   "metadata": {},
   "outputs": [],
   "source": [
    "how much does the threat of the other options reduce the damage taken by BT.3,4 on block?\n",
    "simple case where there is only one payoff: (sum of probabilities of defender's gto winning options) * payoff\n",
    "multiple unique payoffs: sum of (probability of gto winning option) * payoff"
   ]
  },
  {
   "cell_type": "code",
   "execution_count": 364,
   "metadata": {},
   "outputs": [
    {
     "data": {
      "text/plain": [
       "['.ipynb_checkpoints',\n",
       " 'artifacts',\n",
       " 'azu_12bplus8_reina_v2.json',\n",
       " 'azu_BT-5_reina.json',\n",
       " 'azu_bt1_reina.json',\n",
       " 'azu_db3_BTplus4_reina.json',\n",
       " 'azu_heat_engager_plus17.csv',\n",
       " 'json2gbt.py',\n",
       " 'old',\n",
       " 'Untitled.ipynb']"
      ]
     },
     "execution_count": 364,
     "metadata": {},
     "output_type": "execute_result"
    }
   ],
   "source": [
    "os.listdir(base_path)"
   ]
  },
  {
   "cell_type": "code",
   "execution_count": 419,
   "metadata": {},
   "outputs": [
    {
     "data": {
      "text/html": [
       "<div>\n",
       "<style scoped>\n",
       "    .dataframe tbody tr th:only-of-type {\n",
       "        vertical-align: middle;\n",
       "    }\n",
       "\n",
       "    .dataframe tbody tr th {\n",
       "        vertical-align: top;\n",
       "    }\n",
       "\n",
       "    .dataframe thead th {\n",
       "        text-align: right;\n",
       "    }\n",
       "</style>\n",
       "<table border=\"1\" class=\"dataframe\">\n",
       "  <thead>\n",
       "    <tr style=\"text-align: right;\">\n",
       "      <th></th>\n",
       "      <th>strats</th>\n",
       "      <th>B</th>\n",
       "      <th>DB</th>\n",
       "    </tr>\n",
       "  </thead>\n",
       "  <tbody>\n",
       "    <tr>\n",
       "      <th>0</th>\n",
       "      <td>ff3,2</td>\n",
       "      <td>8.0</td>\n",
       "      <td>30</td>\n",
       "    </tr>\n",
       "    <tr>\n",
       "      <th>1</th>\n",
       "      <td>ff3+4</td>\n",
       "      <td>10.0</td>\n",
       "      <td>46</td>\n",
       "    </tr>\n",
       "    <tr>\n",
       "      <th>2</th>\n",
       "      <td>db3</td>\n",
       "      <td>16.5</td>\n",
       "      <td>-5</td>\n",
       "    </tr>\n",
       "    <tr>\n",
       "      <th>3</th>\n",
       "      <td>d1+2</td>\n",
       "      <td>4.2</td>\n",
       "      <td>-18</td>\n",
       "    </tr>\n",
       "    <tr>\n",
       "      <th>4</th>\n",
       "      <td>db4</td>\n",
       "      <td>13.0</td>\n",
       "      <td>-34</td>\n",
       "    </tr>\n",
       "    <tr>\n",
       "      <th>5</th>\n",
       "      <td>df2</td>\n",
       "      <td>-28.0</td>\n",
       "      <td>66</td>\n",
       "    </tr>\n",
       "  </tbody>\n",
       "</table>\n",
       "</div>"
      ],
      "text/plain": [
       "  strats     B  DB\n",
       "0  ff3,2   8.0  30\n",
       "1  ff3+4  10.0  46\n",
       "2    db3  16.5  -5\n",
       "3   d1+2   4.2 -18\n",
       "4    db4  13.0 -34\n",
       "5    df2 -28.0  66"
      ]
     },
     "execution_count": 419,
     "metadata": {},
     "output_type": "execute_result"
    }
   ],
   "source": [
    "df = pd.read_csv(f\"{base_path}/azu_heat_engager_plus17.csv\")\n",
    "df"
   ]
  },
  {
   "cell_type": "code",
   "execution_count": 420,
   "metadata": {},
   "outputs": [
    {
     "data": {
      "text/plain": [
       "[[8.0, 30.0],\n",
       " [10.0, 46.0],\n",
       " [16.5, -5.0],\n",
       " [4.2, -18.0],\n",
       " [13.0, -34.0],\n",
       " [-28.0, 66.0]]"
      ]
     },
     "execution_count": 420,
     "metadata": {},
     "output_type": "execute_result"
    }
   ],
   "source": [
    "# Remove the first column\n",
    "dfc = df.drop(columns=df.columns[0]).values.tolist()\n",
    "dfc"
   ]
  },
  {
   "cell_type": "code",
   "execution_count": 421,
   "metadata": {},
   "outputs": [],
   "source": [
    "js = {\"title\": \"Azucena Heat Engager (+17)\",\n",
    "\"P1\": \"Azucena\",\n",
    "\"P2\": \"Reina\",\n",
    " \"P1-strats\": df.strats.tolist(),\n",
    " \"P2-strats\": df.columns.tolist()[1:],\n",
    " \"comment\": \"Azucena Heat Engager (+17). May need to look at d1+2 oki.\",\n",
    " \"payoffs\": dfc\n",
    "}"
   ]
  },
  {
   "cell_type": "code",
   "execution_count": 422,
   "metadata": {},
   "outputs": [],
   "source": [
    "import json\n",
    "with open(f\"{base_path}/azucena_heat_engager_plus17.json\",\"w\") as f:\n",
    "    json.dump(js, f)"
   ]
  },
  {
   "cell_type": "code",
   "execution_count": 418,
   "metadata": {},
   "outputs": [
    {
     "data": {
      "text/plain": [
       "{'title': 'Azucena db3 (+4) into BT on Reina',\n",
       " 'P1': 'Azucena',\n",
       " 'P2': 'Reina',\n",
       " 'P1-strats': ['BT.1',\n",
       "  'BT.1,2',\n",
       "  'BT.1,4',\n",
       "  'BT.1+2',\n",
       "  'BT.3',\n",
       "  'BT.1+3',\n",
       "  'BT.4',\n",
       "  'BT.2(2)',\n",
       "  'BT.4,3',\n",
       "  'BT.3+4',\n",
       "  'B (exit)',\n",
       "  'qcb',\n",
       "  'd1'],\n",
       " 'P2-strats': ['B',\n",
       "  'DB',\n",
       "  '112',\n",
       "  'DB1',\n",
       "  'SSR~b',\n",
       "  'SSL~b',\n",
       "  'Power Crush',\n",
       "  'Hop Kick'],\n",
       " 'comment': 'Azucena db3 (+4) into BT on Reina. BT4, BT.4,3 requires upstream recalculation on change',\n",
       " 'payoffs': [[-0.22, -76, 10, -5, -23, 10, 10, 10],\n",
       "  [-23.52, -76, 33, -5, -23, 32, 33, 33],\n",
       "  [-0.22, -76, 31, -5, -23, 30, 31, 31],\n",
       "  [-23, 17, 73, 67, 17, 17, -6, 14],\n",
       "  [23, -34, -24, -6, 23, 23, 41, -64],\n",
       "  [0, -76, 0, -5, -76, 0, 35, -64],\n",
       "  [-5.68, 15, -24, -6, 15, 15, -8, 52],\n",
       "  [0, 38, -24, -6, -75, 15, -8, 12],\n",
       "  [-19.85, 36, -24, -6, 36, 36, 13, 44],\n",
       "  [0, 0, -38, 81, -76, 76, -28, -64],\n",
       "  [0, 0, 0, 0, 0, 0, 31.83, 31.83],\n",
       "  [0, 0, 68, 0, 0, 0, 31.83, 68],\n",
       "  [0, 0, 6, 6, 6, 6, 6, 6]]}"
      ]
     },
     "execution_count": 418,
     "metadata": {},
     "output_type": "execute_result"
    }
   ],
   "source": [
    "{\n",
    "    \"title\": \"Azucena db3 (+4) into BT on Reina\",\n",
    "    \"P1\": \"Azucena\",\n",
    "    \"P2\": \"Reina\",\n",
    "    \"P1-strats\": [\"BT.1\", \"BT.1,2\", \"BT.1,4\", \"BT.1+2\", \"BT.3\", \"BT.1+3\", \"BT.4\", \"BT.2(2)\",\n",
    "        \"BT.4,3\", \"BT.3+4\",\n",
    "        \"B (exit)\", \"qcb\", \"d1\"\n",
    "    ],\n",
    "    \"P2-strats\": [\"B\", \"DB\", \"112\", \"DB1\", \"SSR~b\", \"SSL~b\", \"Power Crush\", \"Hop Kick\"],\n",
    "    \"comment\": \"Azucena db3 (+4) into BT on Reina. BT4, BT.4,3 requires upstream recalculation on change\",\n",
    "    \"payoffs\": [\n",
    "        [-0.22, -76, 10, -5, -23, 10, 10, 10],\n",
    "        [-23.52, -76, 33, -5, -23, 32, 33, 33],\n",
    "        [-0.22, -76, 31, -5, -23, 30, 31, 31],\n",
    "        [-23, 17, 73, 67, 17, 17, -6, 14],\n",
    "        [23, -34, -24, -6, 23, 23, 41, -64],\n",
    "        [0, -76, 0, -5, -76, 0, 35, -64],\n",
    "        [-5.68, 15, -24, -6, 15, 15, -8, 52],\n",
    "        [0, 38, -24, -6, -75, 15, -8, 12],\n",
    "        [-19.85, 36, -24, -6, 36, 36, 13, 44],\n",
    "        [0, 0, -38, 81, -76, 76, -28, -64],\n",
    "        [0, 0, 0, 0, 0, 0, 31.83, 31.83],\n",
    "        [0, 0, 68, 0, 0, 0, 31.83, 68],\n",
    "        [0, 0, 6, 6, 6, 6, 6, 6]\n",
    "    ]\n",
    "}"
   ]
  },
  {
   "cell_type": "code",
   "execution_count": null,
   "metadata": {},
   "outputs": [],
   "source": []
  }
 ],
 "metadata": {
  "kernelspec": {
   "display_name": "Python 3",
   "language": "python",
   "name": "python3"
  },
  "language_info": {
   "codemirror_mode": {
    "name": "ipython",
    "version": 3
   },
   "file_extension": ".py",
   "mimetype": "text/x-python",
   "name": "python",
   "nbconvert_exporter": "python",
   "pygments_lexer": "ipython3",
   "version": "3.8.5"
  }
 },
 "nbformat": 4,
 "nbformat_minor": 4
}
